{
 "cells": [
  {
   "cell_type": "code",
   "execution_count": 1,
   "id": "06228e09-a430-4ff8-98af-324fa7d6b6e8",
   "metadata": {},
   "outputs": [
    {
     "name": "stdout",
     "output_type": "stream",
     "text": [
      "   Actual  Predicted\n",
      "0       1          1\n",
      "1       1          1\n",
      "2       0          0\n",
      "3       1          1\n",
      "4       0          0\n"
     ]
    }
   ],
   "source": [
    "import pandas as pd\n",
    "from sklearn.preprocessing import LabelEncoder\n",
    "from sklearn.naive_bayes import CategoricalNB\n",
    "\n",
    "# Dataset\n",
    "data = {\n",
    "    'Cheap': ['yes', 'yes', 'no', 'yes', 'no'],\n",
    "    'Promo': ['yes', 'no', 'yes', 'yes', 'no'],\n",
    "    'Buy?':  ['yes', 'yes', 'no', 'yes', 'no']\n",
    "}\n",
    "\n",
    "# Create DataFrame\n",
    "df = pd.DataFrame(data)\n",
    "\n",
    "# Label encoding for categorical features\n",
    "le_cheap = LabelEncoder()\n",
    "le_promo = LabelEncoder()\n",
    "le_buy = LabelEncoder()\n",
    "\n",
    "df['Cheap'] = le_cheap.fit_transform(df['Cheap'])\n",
    "df['Promo'] = le_promo.fit_transform(df['Promo'])\n",
    "df['Buy?'] = le_buy.fit_transform(df['Buy?'])\n",
    "\n",
    "# Define features and target\n",
    "X = df[['Cheap', 'Promo']]\n",
    "y = df['Buy?']\n",
    "\n",
    "# Train Naive Bayes model\n",
    "model = CategoricalNB()\n",
    "model.fit(X, y)\n",
    "\n",
    "# Predictions\n",
    "predictions = model.predict(X)\n",
    "\n",
    "# Show results\n",
    "result_df = pd.DataFrame({'Actual': y, 'Predicted': predictions})\n",
    "print(result_df)\n"
   ]
  },
  {
   "cell_type": "code",
   "execution_count": null,
   "id": "63e5e5d5-1663-4da4-96ab-fbf687a3859b",
   "metadata": {},
   "outputs": [],
   "source": []
  }
 ],
 "metadata": {
  "kernelspec": {
   "display_name": "Python 3 (ipykernel)",
   "language": "python",
   "name": "python3"
  },
  "language_info": {
   "codemirror_mode": {
    "name": "ipython",
    "version": 3
   },
   "file_extension": ".py",
   "mimetype": "text/x-python",
   "name": "python",
   "nbconvert_exporter": "python",
   "pygments_lexer": "ipython3",
   "version": "3.12.6"
  }
 },
 "nbformat": 4,
 "nbformat_minor": 5
}
